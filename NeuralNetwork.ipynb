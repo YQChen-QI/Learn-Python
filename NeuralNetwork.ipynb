{
 "metadata": {
  "language_info": {
   "codemirror_mode": {
    "name": "ipython",
    "version": 3
   },
   "file_extension": ".py",
   "mimetype": "text/x-python",
   "name": "python",
   "nbconvert_exporter": "python",
   "pygments_lexer": "ipython3",
   "version": "3.8.5-final"
  },
  "orig_nbformat": 2,
  "kernelspec": {
   "name": "Python 3.8.5 64-bit",
   "display_name": "Python 3.8.5 64-bit",
   "metadata": {
    "interpreter": {
     "hash": "082e9a3bcad0a290d0001e938aa60b99250c6c2ef33a923c00b70f9826caf4b7"
    }
   }
  }
 },
 "nbformat": 4,
 "nbformat_minor": 2,
 "cells": [
  {
   "source": [
    "# 使用 python 制作神经网络\n",
    "\n",
    "这里用一个几乎100%手写BP算法的方式来实现一个基本神经网络的搭建。\n",
    "\n",
    "首先，定义出神经网络类"
   ],
   "cell_type": "markdown",
   "metadata": {}
  },
  {
   "cell_type": "code",
   "execution_count": null,
   "metadata": {},
   "outputs": [],
   "source": [
    "# Neural network class definition\n",
    "\n",
    "class neuralNetwork:\n",
    "\n",
    "    # Initialize the neural network\n",
    "    def __init__(self,inputnodes,hiddennodes,outputnodes,learningrate):\n",
    "        # Set number of nodes in each input, hidden, output layer\n",
    "        self.inodes = inputnodes\n",
    "        self.hnodes = hiddennodes\n",
    "        self.onodes = outputnodes\n",
    "\n",
    "        # Learning rate\n",
    "        self.lr = learningrate\n",
    "        pass\n",
    "\n",
    "    # Train the neural network\n",
    "    def train():\n",
    "        pass\n",
    "\n",
    "    # Query the neural network\n",
    "    def query():\n",
    "        pass\n"
   ]
  }
 ]
}