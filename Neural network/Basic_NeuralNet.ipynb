{
 "metadata": {
  "language_info": {
   "codemirror_mode": {
    "name": "ipython",
    "version": 3
   },
   "file_extension": ".py",
   "mimetype": "text/x-python",
   "name": "python",
   "nbconvert_exporter": "python",
   "pygments_lexer": "ipython3",
   "version": "3.8.5-final"
  },
  "orig_nbformat": 2,
  "kernelspec": {
   "name": "Python 3.8.5 64-bit",
   "display_name": "Python 3.8.5 64-bit",
   "metadata": {
    "interpreter": {
     "hash": "082e9a3bcad0a290d0001e938aa60b99250c6c2ef33a923c00b70f9826caf4b7"
    }
   }
  }
 },
 "nbformat": 4,
 "nbformat_minor": 2,
 "cells": [
  {
   "source": [
    "# 使用 python 制作神经网络\n",
    "\n",
    "这里用一个几乎100%手写BP算法的方式来实现一个3层可变节点数基本神经网络的搭建。"
   ],
   "cell_type": "markdown",
   "metadata": {}
  },
  {
   "cell_type": "code",
   "execution_count": 1,
   "metadata": {},
   "outputs": [],
   "source": [
    "import numpy as np\n",
    "import scipy.special"
   ]
  },
  {
   "source": [
    "首先，定义出神经网络类"
   ],
   "cell_type": "markdown",
   "metadata": {}
  },
  {
   "source": [
    "# Neural network class definition\n",
    "\n",
    "class neuralNetwork:\n",
    "\n",
    "    # Initialize the neural network\n",
    "    def __init__(self,inputnodes,hiddennodes,outputnodes,learningrate):\n",
    "        # Set number of nodes in each input, hidden, output layer\n",
    "        self.inodes = inputnodes\n",
    "        self.hnodes = hiddennodes\n",
    "        self.onodes = outputnodes\n",
    "\n",
    "        # Link weight matrices, wih and who\n",
    "        #self.wih = (np.random.rand(self.hnodes,self.inodes) - 0.5)\n",
    "        #self.who = (np.random.rand(self.onodes,self.hnodes) - 0.5)\n",
    "        self.wih = numpy.random.normal(0.0,pow(self.hnodes,-0.5),(self.hnodes,self.inodes))\n",
    "        self.who = numpy.random.normal(0.0,pow(self.onodes,-0.5),(self.onodes,self.hnodes))\n",
    "\n",
    "        # Learning rate\n",
    "        self.lr = learningrate\n",
    "        \n",
    "        # Activation function is the sigmoid function\n",
    "        self.activation_function = lambda x: scipy.special.expit(x)\n",
    "\n",
    "        pass\n",
    "\n",
    "    # Train the neural network\n",
    "    def train(self,inputs_list,targets_list):\n",
    "        # Convert inputs list to 2D array\n",
    "        inputs = np.array(inputs_list,ndmin=2).T\n",
    "        targets = np.array(targets_list,ndmin=2).T\n",
    "\n",
    "        # Calculate signals into hidden layer\n",
    "        hidden_inputs = np.dot(self.wih,inputs)\n",
    "        # Calculate the signals emerging from hidden layer\n",
    "        hidden_outputs = self.activation_function(hidden_inputs)\n",
    "\n",
    "        # Calculate signals into final output layer\n",
    "        final_inputs = numpy.dot(self.who,hidden_outputs)\n",
    "        # Calculate the signals emerging from output layer\n",
    "        final_outputs = self.activation_function(final_inputs)\n",
    "\n",
    "        # Output layer error is the (target - actual)\n",
    "        output_errors = targets - final_outputs\n",
    "        # Hidden layer error is the output_errors, split by weights, recombined at hidden nodes\n",
    "        hidden_errors = np.dot(self.who.T,output_errors)\n",
    "\n",
    "        # Update the weights for the links between the hidden and output layers\n",
    "        self.who += self.lr * np.dot((output_errors * final_outputs * (1.0 - final_outputs)),np.transpose(hidden_outputs))\n",
    "\n",
    "        # Update the weights for the links between the inputs and hidden layers\n",
    "        self.wih += self.lr * np.dot((hidden_errors * hidden_outputs * (1.0 - hidden_outputs)),np.transpose(inputs))\n",
    "\n",
    "        pass\n",
    "\n",
    "    # Query the neural network\n",
    "    def query(self,inputs_list):\n",
    "        # Convert inputs list to 2d array\n",
    "        inputs = np.array(inputs_list,ndmin=2).T\n",
    "        \n",
    "        # Calculate signals into hidden layer\n",
    "        hidden_inputs = np.dot(self.wih,inputs)\n",
    "        # Calculate the signals emerging from hidden layer\n",
    "        hidden_outputs = self.activation_function(hidden_inputs)\n",
    "\n",
    "        # Calculate signals into final output layer\n",
    "        final_inputs = np.dot(self.who,hidden_outputs)\n",
    "        # Calculate the signals emerging from final output layer\n",
    "        final_outputs = self.activation_function(final_inputs)\n",
    "        \n",
    "        return final_outputs"
   ],
   "cell_type": "code",
   "metadata": {},
   "execution_count": 2,
   "outputs": []
  },
  {
   "source": [
    "使用所定义的神经网络类"
   ],
   "cell_type": "markdown",
   "metadata": {}
  },
  {
   "cell_type": "code",
   "execution_count": null,
   "metadata": {},
   "outputs": [],
   "source": [
    "# Number of input, hidden and output nodes\n",
    "input_nodes = 3\n",
    "hidden_nodes = 3\n",
    "output_nodes = 3\n",
    "\n",
    "# Learning rate set as 0.5\n",
    "learning_rate = 0.5\n",
    "\n",
    "# Create an instance of neural network\n",
    "n = neuralNetwork(input_nodes,hidden_nodes,output_nodes,learning_rate)"
   ]
  },
  {
   "cell_type": "code",
   "execution_count": null,
   "metadata": {},
   "outputs": [],
   "source": []
  }
 ]
}